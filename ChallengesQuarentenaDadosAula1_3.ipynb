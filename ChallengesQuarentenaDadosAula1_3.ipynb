{
  "nbformat": 4,
  "nbformat_minor": 0,
  "metadata": {
    "colab": {
      "name": "ChallengesQuarentenaDadosAula1-3.ipynb",
      "provenance": [],
      "collapsed_sections": [
        "4MAY12JVdbmf",
        "dBPQrIu6v6A6",
        "nWxMwLajyWHm",
        "mYxzhFaamR8v",
        "LGHFHigPw-L4",
        "I11PYBQlyfUb",
        "S5iQ2S74yyHM",
        "JIhiX1COzD0a",
        "htLQQSQWwPWv",
        "5n3AjWpCwVjA",
        "6CF4IYC22OBx",
        "xwf7qxO74-sG",
        "SGPMAZuAuMZ8",
        "7YI-myxP1Akm",
        "A0v2f0wvW9an",
        "gQFvDo64ZCK1",
        "mB60kewGmxMA",
        "Z_XjrEYEpNP_",
        "kT5Y-r3WsyYQ",
        "8XSR5RRG9_L0"
      ],
      "toc_visible": true,
      "mount_file_id": "124KGsIeLy31s8w7driBHNiJIJkGpU3-e",
      "authorship_tag": "ABX9TyOooY1zUPrb+4x6LB0ItwlC",
      "include_colab_link": true
    },
    "kernelspec": {
      "name": "python3",
      "display_name": "Python 3"
    }
  },
  "cells": [
    {
      "cell_type": "markdown",
      "metadata": {
        "id": "view-in-github",
        "colab_type": "text"
      },
      "source": [
        "<a href=\"https://colab.research.google.com/github/ZT-715/QuarentenaDadosChallenges/blob/master/ChallengesQuarentenaDadosAula1_3.ipynb\" target=\"_parent\"><img src=\"https://colab.research.google.com/assets/colab-badge.svg\" alt=\"Open In Colab\"/></a>"
      ]
    },
    {
      "cell_type": "markdown",
      "metadata": {
        "id": "4MAY12JVdbmf",
        "colab_type": "text"
      },
      "source": [
        "# Lendo os dados do MovieLens\n"
      ]
    },
    {
      "cell_type": "markdown",
      "metadata": {
        "id": "OUct7eJIeYKX",
        "colab_type": "text"
      },
      "source": [
        "Importaçao do Pandas lib:"
      ]
    },
    {
      "cell_type": "code",
      "metadata": {
        "id": "8n3eTNWmXa5j",
        "colab_type": "code",
        "colab": {}
      },
      "source": [
        "import pandas as pd"
      ],
      "execution_count": 0,
      "outputs": []
    },
    {
      "cell_type": "markdown",
      "metadata": {
        "id": "tlc8Fd78et9q",
        "colab_type": "text"
      },
      "source": [
        "Criando Pandas DataFrame com dados dos filmes"
      ]
    },
    {
      "cell_type": "code",
      "metadata": {
        "id": "aUYfN1kqYcpe",
        "colab_type": "code",
        "colab": {}
      },
      "source": [
        "filmes = pd.read_csv(\"https://raw.githubusercontent.com/alura-cursos/introducao-a-data-science/master/aula0/ml-latest-small/movies.csv\")\n",
        "#filme as DataFrame\n",
        "filmes.columns = [\"filmeID\", \"titulo\", \"genero\"]\n",
        "filmes.head()"
      ],
      "execution_count": 0,
      "outputs": []
    },
    {
      "cell_type": "code",
      "metadata": {
        "id": "sCK-lwECY-L1",
        "colab_type": "code",
        "colab": {}
      },
      "source": [
        "# easly documantation:\n",
        "# filmes.head?"
      ],
      "execution_count": 0,
      "outputs": []
    },
    {
      "cell_type": "markdown",
      "metadata": {
        "id": "wR6OsqJkfLca",
        "colab_type": "text"
      },
      "source": [
        "Criando DataFrame com dados de rating"
      ]
    },
    {
      "cell_type": "code",
      "metadata": {
        "id": "gzvCjqVvZ1ZW",
        "colab_type": "code",
        "colab": {}
      },
      "source": [
        "avaliacoes = pd.read_csv(\"https://raw.githubusercontent.com/alura-cursos/introducao-a-data-science/master/aula0/ml-latest-small/ratings.csv\")\n",
        "avaliacoes.head()"
      ],
      "execution_count": 0,
      "outputs": []
    },
    {
      "cell_type": "markdown",
      "metadata": {
        "id": "jhn-Cy81gchb",
        "colab_type": "text"
      },
      "source": [
        "Informaçoes sobre o DataFrame (row, columns)"
      ]
    },
    {
      "cell_type": "code",
      "metadata": {
        "id": "ffJD5czWaWLa",
        "colab_type": "code",
        "colab": {}
      },
      "source": [
        "avaliacoes.shape"
      ],
      "execution_count": 0,
      "outputs": []
    },
    {
      "cell_type": "markdown",
      "metadata": {
        "id": "-DSCMeDBfUHJ",
        "colab_type": "text"
      },
      "source": [
        "Renomeando colunas para fácil entendimento\n"
      ]
    },
    {
      "cell_type": "code",
      "metadata": {
        "id": "sV6sk1q-am4C",
        "colab_type": "code",
        "colab": {}
      },
      "source": [
        "avaliacoes.columns = [\"votoUID\",\"filmeID\",\"nota\",\"momento\"]"
      ],
      "execution_count": 0,
      "outputs": []
    },
    {
      "cell_type": "code",
      "metadata": {
        "id": "XgL-gIIwa-kX",
        "colab_type": "code",
        "colab": {}
      },
      "source": [
        "avaliacoes.describe()"
      ],
      "execution_count": 0,
      "outputs": []
    },
    {
      "cell_type": "markdown",
      "metadata": {
        "id": "L357QzRMf3Wk",
        "colab_type": "text"
      },
      "source": [
        "Separando informaçoes do filmeID '1'(Toy Story 1)"
      ]
    },
    {
      "cell_type": "code",
      "metadata": {
        "id": "xD3WdlJkbEWO",
        "colab_type": "code",
        "colab": {}
      },
      "source": [
        "toyStory = avaliacoes.query(\"filmeID==1\")"
      ],
      "execution_count": 0,
      "outputs": []
    },
    {
      "cell_type": "markdown",
      "metadata": {
        "id": "XaJ4XCcVgEeS",
        "colab_type": "text"
      },
      "source": [
        "Informaçoes sobre nota de Toy Story 1"
      ]
    },
    {
      "cell_type": "code",
      "metadata": {
        "id": "hnwwGoC1cwVv",
        "colab_type": "code",
        "colab": {}
      },
      "source": [
        "toyStory[\"nota\"].describe()"
      ],
      "execution_count": 0,
      "outputs": []
    },
    {
      "cell_type": "markdown",
      "metadata": {
        "id": "UdgATO6-gLps",
        "colab_type": "text"
      },
      "source": [
        "Média da nota do filme"
      ]
    },
    {
      "cell_type": "code",
      "metadata": {
        "id": "knRjCWKrgUFI",
        "colab_type": "code",
        "colab": {}
      },
      "source": [
        "toyStory[\"nota\"].mean()"
      ],
      "execution_count": 0,
      "outputs": []
    },
    {
      "cell_type": "markdown",
      "metadata": {
        "id": "dBPQrIu6v6A6",
        "colab_type": "text"
      },
      "source": [
        "# Aula 1"
      ]
    },
    {
      "cell_type": "markdown",
      "metadata": {
        "id": "nWxMwLajyWHm",
        "colab_type": "text"
      },
      "source": [
        "### Desafio 4 e 2\n",
        "  Aredondar notas media para duas casas decimais e mudar o nome da coluna."
      ]
    },
    {
      "cell_type": "markdown",
      "metadata": {
        "id": "9X7DvTyUsj8v",
        "colab_type": "text"
      },
      "source": [
        "Separa medias por filme:"
      ]
    },
    {
      "cell_type": "code",
      "metadata": {
        "id": "yTftWb-Xiplo",
        "colab_type": "code",
        "colab": {}
      },
      "source": [
        "media_por_filmes = avaliacoes.groupby(\"filmeID\")[\"nota\"].mean().round(2).rename(\"nota_media\")\n",
        "media_por_filmes.head()"
      ],
      "execution_count": 0,
      "outputs": []
    },
    {
      "cell_type": "markdown",
      "metadata": {
        "id": "VsEMXiaOlI0r",
        "colab_type": "text"
      },
      "source": [
        "  Mudar o nome da coluna após join"
      ]
    },
    {
      "cell_type": "code",
      "metadata": {
        "id": "yrVJler0mZze",
        "colab_type": "code",
        "colab": {}
      },
      "source": [
        "filmes_com_media = filmes.join(media_por_filmes, on=\"filmeID\")\n",
        "#filmes_com_media.columns = ['notaMedia' if x=='nota' else x \n",
        "#                           for x in filmes_com_media.columns]\n",
        "filmes_com_media.head()"
      ],
      "execution_count": 0,
      "outputs": []
    },
    {
      "cell_type": "markdown",
      "metadata": {
        "id": "mYxzhFaamR8v",
        "colab_type": "text"
      },
      "source": [
        "### Desafio 1\n",
        "\n",
        "Encontre os 18 filmes que nao tem avaliação"
      ]
    },
    {
      "cell_type": "code",
      "metadata": {
        "id": "pVxx-D8ao15P",
        "colab_type": "code",
        "colab": {}
      },
      "source": [
        "filmes_sem_nota = filmes_com_media.query(\"nota_media!=nota_media\")\n",
        "\n",
        "filmes_sem_nota[\"titulo\"]"
      ],
      "execution_count": 0,
      "outputs": []
    },
    {
      "cell_type": "markdown",
      "metadata": {
        "id": "LGHFHigPw-L4",
        "colab_type": "text"
      },
      "source": [
        "### Desafio 3\n",
        "  Colocar numero de avaliaçoes por filme, isto é, o total de votos por filme."
      ]
    },
    {
      "cell_type": "markdown",
      "metadata": {
        "id": "iRcAS5d8Iu1h",
        "colab_type": "text"
      },
      "source": [
        "Criando uma serie com o numero de vezes que um filme voi votado, e nomeando-a 'votos'."
      ]
    },
    {
      "cell_type": "code",
      "metadata": {
        "id": "UEUdtUGa1gMH",
        "colab_type": "code",
        "colab": {}
      },
      "source": [
        "numero_de_votos = avaliacoes.groupby([\"filmeID\"]).size().rename(\"votos\")\n",
        "numero_de_votos.head(5)"
      ],
      "execution_count": 0,
      "outputs": []
    },
    {
      "cell_type": "markdown",
      "metadata": {
        "id": "IEXUHtePJTJd",
        "colab_type": "text"
      },
      "source": [
        "  Juntando a serie com votos o DataFrame com medias de nota. E filtrando apenas os filmes dos quais tem votos(retirando os que tem campo NaN nos valores de rating)."
      ]
    },
    {
      "cell_type": "code",
      "metadata": {
        "id": "tTrl3D1XxChF",
        "colab_type": "code",
        "colab": {}
      },
      "source": [
        "filmes_votos_medias = filmes_com_media.join(numero_de_votos, on=\"filmeID\").query(\"votos==votos\")"
      ],
      "execution_count": 0,
      "outputs": []
    },
    {
      "cell_type": "markdown",
      "metadata": {
        "id": "xgpgm7YoKJnm",
        "colab_type": "text"
      },
      "source": [
        "#### Ranking dos filmes com mais votos:"
      ]
    },
    {
      "cell_type": "code",
      "metadata": {
        "id": "PauFozmtGbbh",
        "colab_type": "code",
        "colab": {}
      },
      "source": [
        "filmes_top_votos = filmes_votos_medias.sort_values(\"votos\", ascending=False).head(10)\n",
        "\n",
        "filmes_top_votos"
      ],
      "execution_count": 0,
      "outputs": []
    },
    {
      "cell_type": "markdown",
      "metadata": {
        "id": "I11PYBQlyfUb",
        "colab_type": "text"
      },
      "source": [
        "### Desafio 5\n",
        "  Descobrir os genoros de filmes(quais são eles)\n"
      ]
    },
    {
      "cell_type": "code",
      "metadata": {
        "id": "eE3yX5j3OsUI",
        "colab_type": "code",
        "colab": {}
      },
      "source": [
        "genres = filmes[\"genero\"].str.split(\"|\")\n",
        "\n",
        "genres_types = []\n",
        "for i in genres: \n",
        "  for genre in i:\n",
        "    if (not genre in genres_types): genres_types.append(genre) \n",
        "genres_types"
      ],
      "execution_count": 0,
      "outputs": []
    },
    {
      "cell_type": "markdown",
      "metadata": {
        "id": "S5iQ2S74yyHM",
        "colab_type": "text"
      },
      "source": [
        "### Desafio 6\n",
        "  contabilizar quantia de apariçao dos generos"
      ]
    },
    {
      "cell_type": "code",
      "metadata": {
        "id": "SI3iw7SAcvIC",
        "colab_type": "code",
        "colab": {}
      },
      "source": [
        "filmes_por_genero = {}\n",
        "for genre in genres_types: filmes_por_genero[genre] = 0\n",
        "for i in genres: \n",
        "  for genre in i:\n",
        "    if genre in filmes_por_genero:\n",
        "      filmes_por_genero[genre] += 1\n",
        "filmes_por_genero "
      ],
      "execution_count": 0,
      "outputs": []
    },
    {
      "cell_type": "markdown",
      "metadata": {
        "id": "JIhiX1COzD0a",
        "colab_type": "text"
      },
      "source": [
        "### Desafio 7\n",
        "  Plot grafico de apariçoes de cada genero. Grafico do tipo barra"
      ]
    },
    {
      "cell_type": "markdown",
      "metadata": {
        "id": "zz24zAlEz67F",
        "colab_type": "text"
      },
      "source": [
        "#### Gráfico do número de filmes por gênero"
      ]
    },
    {
      "cell_type": "code",
      "metadata": {
        "id": "fLJqfbfgepbs",
        "colab_type": "code",
        "colab": {}
      },
      "source": [
        "import matplotlib.pyplot as plt"
      ],
      "execution_count": 0,
      "outputs": []
    },
    {
      "cell_type": "code",
      "metadata": {
        "id": "KbfcAsSofQt5",
        "colab_type": "code",
        "colab": {}
      },
      "source": [
        "plt.figure(figsize=[20, 12], dpi=70)\n",
        "plt.bar(*zip(*filmes_por_genero.items()), tick_label=list(filmes_por_genero.keys()))\n",
        "plt.rcParams.update({'font.size': 18})\n",
        "plt.xticks(rotation='85')\n",
        "plt.xlabel(\"Generos\")\n",
        "plt.ylabel(\"Numero de Filmes\")"
      ],
      "execution_count": 0,
      "outputs": []
    },
    {
      "cell_type": "markdown",
      "metadata": {
        "id": "htLQQSQWwPWv",
        "colab_type": "text"
      },
      "source": [
        "# Aula 2"
      ]
    },
    {
      "cell_type": "code",
      "metadata": {
        "id": "i_uUX7Dowty5",
        "colab_type": "code",
        "colab": {}
      },
      "source": [
        "import seaborn as sns"
      ],
      "execution_count": 0,
      "outputs": []
    },
    {
      "cell_type": "markdown",
      "metadata": {
        "id": "5n3AjWpCwVjA",
        "colab_type": "text"
      },
      "source": [
        "## Desafio 1\n",
        "\n",
        "  Rotacionar os thicks (os nomes dos generos) do gráfico de barras verdes, de forma a deixar as legendas mais legíveis."
      ]
    },
    {
      "cell_type": "code",
      "metadata": {
        "id": "K32ZWSOgw836",
        "colab_type": "code",
        "colab": {}
      },
      "source": [
        "sns.set_style(\"whitegrid\")\n",
        "\n",
        "filmes_genero = filmes[\"genero\"].str.get_dummies('|').sum().sort_values(ascending=False)\n",
        "plt.figure(figsize=(16,8))\n",
        "barplt = sns.barplot(x=filmes_genero.index,\n",
        "            y=filmes_genero.values,\n",
        "            palette=sns.color_palette(\"BuGn_r\", n_colors=len(filmes_por_genero) + 4))\n",
        "barplt.set_xticklabels(barplt.get_xticklabels(), rotation=45, horizontalalignment='right')\n",
        "\n",
        "plt.show()"
      ],
      "execution_count": 0,
      "outputs": []
    },
    {
      "cell_type": "markdown",
      "metadata": {
        "id": "6CF4IYC22OBx",
        "colab_type": "text"
      },
      "source": [
        "## Desafio 2 e 6\n",
        "\n",
        "  Plotar o boxplot e o histograma um do lado do outro (na mesma figura ou em figuras distintas, mas um do lado do outro).\n",
        "\n",
        "  Encontar vários filmes com médias próximas e distribuições diferentes, use a função **plot_filmes(n)** para plotar."
      ]
    },
    {
      "cell_type": "code",
      "metadata": {
        "id": "xwY77Kin2kE8",
        "colab_type": "code",
        "colab": {}
      },
      "source": [
        "def plot_filme(n):\n",
        "  f, axes = plt.subplots(1, 2, figsize = (16,8))\n",
        "  notas_do_filme = avaliacoes.query(f'filmeID == {n}')[\"nota\"]\n",
        "\n",
        "  sns.distplot(notas_do_filme, bins = 10, ax = axes[0], kde= False)\n",
        "\n",
        "  g = sns.boxplot(data = avaliacoes.query(f'filmeID == {n}'), x = 'filmeID',y = 'nota', ax = axes[1])\n",
        "  plt.show()\n",
        "  return notas_do_filme.describe()"
      ],
      "execution_count": 0,
      "outputs": []
    },
    {
      "cell_type": "code",
      "metadata": {
        "id": "nkfzI5Jg2pQS",
        "colab_type": "code",
        "colab": {}
      },
      "source": [
        "plot_filme(152081)#zootopia"
      ],
      "execution_count": 0,
      "outputs": []
    },
    {
      "cell_type": "code",
      "metadata": {
        "id": "DI1PkR_V4GFB",
        "colab_type": "code",
        "colab": {}
      },
      "source": [
        "plot_filme(2762)#sixth sense"
      ],
      "execution_count": 0,
      "outputs": []
    },
    {
      "cell_type": "code",
      "metadata": {
        "id": "YPHgmECu4ces",
        "colab_type": "code",
        "colab": {}
      },
      "source": [
        "plot_filme(2150)# The Gods Must Be Crazy"
      ],
      "execution_count": 0,
      "outputs": []
    },
    {
      "cell_type": "markdown",
      "metadata": {
        "id": "xwf7qxO74-sG",
        "colab_type": "text"
      },
      "source": [
        "## Desafio 3\n",
        "\n",
        "  Criar o boxplot dos 10 filmes com mais votos (não é com maior média, é com mais votos!). Não apenas plot mas também analise e tente tirar conclusões."
      ]
    },
    {
      "cell_type": "code",
      "metadata": {
        "id": "_HDn044n_FL_",
        "colab_type": "code",
        "colab": {}
      },
      "source": [
        "id_filmes_top_votos = (filmes_top_votos[\"filmeID\"].tolist())\n",
        "id_filmes_top_votos = id_filmes_top_votos\n",
        "print(id_filmes_top_votos)"
      ],
      "execution_count": 0,
      "outputs": []
    },
    {
      "cell_type": "code",
      "metadata": {
        "id": "k7870krT5TTb",
        "colab_type": "code",
        "colab": {}
      },
      "source": [
        "#for filmeID in id_filmes_top_votos: plot_box_filme(filmeID) \n",
        "plt.figure(figsize=(16,8))\n",
        "sns.boxplot(data=avaliacoes.query(\"filmeID in [356, 318, 296, 593, 2571, 260, 480, 110, 589, 527]\"),\n",
        "            x=\"filmeID\",\n",
        "            y=\"nota\")"
      ],
      "execution_count": 0,
      "outputs": []
    },
    {
      "cell_type": "code",
      "metadata": {
        "id": "cxDVRczgIXue",
        "colab_type": "code",
        "colab": {}
      },
      "source": [
        ""
      ],
      "execution_count": 0,
      "outputs": []
    },
    {
      "cell_type": "markdown",
      "metadata": {
        "id": "SGPMAZuAuMZ8",
        "colab_type": "text"
      },
      "source": [
        "## Desafio 4\n",
        "  Configurar a visualização do boxplot gerado pelo seaborn (último boxplot plotado na aula). Configurar o tamanho e colocar o nome dos filmes nos thicks."
      ]
    },
    {
      "cell_type": "code",
      "metadata": {
        "id": "A8tmOcxKvivj",
        "colab_type": "code",
        "colab": {}
      },
      "source": [
        "avaliacoesComTitulo = avaliacoes.merge(filmes[[\"titulo\", \"filmeID\"]], on=\"filmeID\")\n",
        "[[\"votoUID\", \"filmeID\", \"titulo\", \"nota\"]]\n",
        "\n",
        "avaliacoesComTitulo.head()"
      ],
      "execution_count": 0,
      "outputs": []
    },
    {
      "cell_type": "code",
      "metadata": {
        "id": "Z5zzDiSbueE0",
        "colab_type": "code",
        "colab": {}
      },
      "source": [
        "plt.figure(figsize=[10,8])\n",
        "sns.boxplot(data = avaliacoesComTitulo.query(\"filmeID in [1,2,919,46578]\"),\n",
        "            x=\"titulo\",\n",
        "            y=\"nota\")\n",
        "plt.xticks(rotation=65)"
      ],
      "execution_count": 0,
      "outputs": []
    },
    {
      "cell_type": "markdown",
      "metadata": {
        "id": "7YI-myxP1Akm",
        "colab_type": "text"
      },
      "source": [
        "## Desafio 5\n",
        "  Calcular moda, média e mediana dos filmes. Explore filmes com notas mais próximas de 0.5, 3 e 5."
      ]
    },
    {
      "cell_type": "code",
      "metadata": {
        "id": "SDCc8QY3-B4c",
        "colab_type": "code",
        "colab": {}
      },
      "source": [
        "filmesMediana = avaliacoes.groupby(\"filmeID\")[\"nota\"].median().rename(\"mediana\")\n",
        "\n",
        "filmesMednMediana = filmes_votos_medias.join(filmesMediana, on=\"filmeID\")"
      ],
      "execution_count": 0,
      "outputs": []
    },
    {
      "cell_type": "code",
      "metadata": {
        "id": "RbqMcQci-QwN",
        "colab_type": "code",
        "colab": {}
      },
      "source": [
        "filmesModa = avaliacoes.groupby(\"filmeID\")[\"nota\"].agg(pd.Series.mode).rename(\"moda\")\n",
        "\n",
        "filmesInfo = filmesMednMediana.join(filmesModa, on=\"filmeID\")"
      ],
      "execution_count": 0,
      "outputs": []
    },
    {
      "cell_type": "code",
      "metadata": {
        "id": "Hb_WjHnRBfgh",
        "colab_type": "code",
        "colab": {}
      },
      "source": [
        "filmesInfo = filmesInfo[['filmeID', 'titulo', 'genero', 'votos', 'nota_media', 'mediana', 'moda']]\n",
        "filmesInfo = filmesInfo.rename(columns={'nota_media': 'média'})"
      ],
      "execution_count": 0,
      "outputs": []
    },
    {
      "cell_type": "code",
      "metadata": {
        "id": "Rv67Pt7s-r5N",
        "colab_type": "code",
        "colab": {}
      },
      "source": [
        "filmesInfo.query(\"votos > 1\").sort_values(\"média\", ascending=False)[50:60]"
      ],
      "execution_count": 0,
      "outputs": []
    },
    {
      "cell_type": "code",
      "metadata": {
        "id": "Ae5s8MTDC5QF",
        "colab_type": "code",
        "colab": {}
      },
      "source": [
        "filmesInfo.query(\"votos > 1\").sort_values(\"média\", ascending=False)[5000:5010]"
      ],
      "execution_count": 0,
      "outputs": []
    },
    {
      "cell_type": "code",
      "metadata": {
        "id": "yqNWc_bGC7S-",
        "colab_type": "code",
        "colab": {}
      },
      "source": [
        "filmesInfo.query(\"votos > 1\").sort_values(\"média\", ascending=False)[6200:]"
      ],
      "execution_count": 0,
      "outputs": []
    },
    {
      "cell_type": "code",
      "metadata": {
        "id": "NRX0ddnvQUJz",
        "colab_type": "code",
        "colab": {}
      },
      "source": [
        "def explorar_filme(filmeID):\n",
        "  filme = filmesInfo.query(f\"filmeID == {filmeID} \")\n",
        "  \n",
        "  print(f\"Filme: {filme.titulo.values[0]}\", end=\"\\n\\n\")\n",
        "  print(f\"Votos: {filme.votos.values[0]}\")\n",
        "  print(f\"Média: {filme.média.values[0]}\")\n",
        "  print(f\"Mediana: {filme.mediana.values[0]}\")\n",
        "  print(f\"Moda: {filme.moda.values[0]}\", end=\"\\n-------------\\n\")"
      ],
      "execution_count": 0,
      "outputs": []
    },
    {
      "cell_type": "code",
      "metadata": {
        "id": "Ui4QrmgARdQW",
        "colab_type": "code",
        "colab": {}
      },
      "source": [
        "explorar_filme(1041)\n",
        "explorar_filme(47044)\n",
        "explorar_filme(4580)"
      ],
      "execution_count": 0,
      "outputs": []
    },
    {
      "cell_type": "markdown",
      "metadata": {
        "id": "A0v2f0wvW9an",
        "colab_type": "text"
      },
      "source": [
        "## Desafio 7\n",
        "\n",
        "  Criar um gráfico de notas médias por ano (média geral considerando todos os filmes lançados naquele ano)."
      ]
    },
    {
      "cell_type": "code",
      "metadata": {
        "id": "j1J5rbdQXGD5",
        "colab_type": "code",
        "colab": {}
      },
      "source": [
        "filmeAnos = filmes['titulo'].str.extract('\\((\\d+)\\)$')\n",
        "filmeAnos.columns = [\"ano\"]"
      ],
      "execution_count": 0,
      "outputs": []
    },
    {
      "cell_type": "code",
      "metadata": {
        "id": "bFw57ewnXUIV",
        "colab_type": "code",
        "colab": {}
      },
      "source": [
        "filmeAnos.head()"
      ],
      "execution_count": 0,
      "outputs": []
    },
    {
      "cell_type": "code",
      "metadata": {
        "id": "H-4lleosXe1k",
        "colab_type": "code",
        "colab": {}
      },
      "source": [
        "filmesInfo = filmesInfo.join(filmeAnos, on=\"filmeID\")"
      ],
      "execution_count": 0,
      "outputs": []
    },
    {
      "cell_type": "code",
      "metadata": {
        "id": "TfxPTlkbX470",
        "colab_type": "code",
        "colab": {}
      },
      "source": [
        "MediaPorAno = filmesInfo.groupby(\"ano\")[\"média\"].mean()"
      ],
      "execution_count": 0,
      "outputs": []
    },
    {
      "cell_type": "code",
      "metadata": {
        "id": "uxYA0mH5YKfo",
        "colab_type": "code",
        "colab": {}
      },
      "source": [
        "MediaPorAno.plot(figsize=[35,5], kind=\"bar\")"
      ],
      "execution_count": 0,
      "outputs": []
    },
    {
      "cell_type": "code",
      "metadata": {
        "id": "T2hMQnwwZOO0",
        "colab_type": "code",
        "colab": {}
      },
      "source": [
        "MediaPorAno.head()#alguns anos nao tem filmes?"
      ],
      "execution_count": 0,
      "outputs": []
    },
    {
      "cell_type": "markdown",
      "metadata": {
        "id": "XR-JU_kyT-4O",
        "colab_type": "text"
      },
      "source": [
        "# Aula 3\n",
        "\n",
        "  Dados de amostra do IMDB"
      ]
    },
    {
      "cell_type": "code",
      "metadata": {
        "id": "xkOtCsNredBo",
        "colab_type": "code",
        "colab": {}
      },
      "source": [
        "#imdb = pd.read_csv(\"https://gist.githubusercontent.com/guilhermesilveira/24e271e68afe8fd257911217b88b2e07/raw/e70287fb1dcaad4215c3f3c9deda644058a616bc/movie_metadata.csv\")\n",
        "import matplotlib.pyplot as plt\n",
        "import seaborn as sns\n",
        "\n",
        "imdb = pd.read_csv(\"./drive/My Drive/Colab Notebooks/movie_metadata.csv\")"
      ],
      "execution_count": 0,
      "outputs": []
    },
    {
      "cell_type": "code",
      "metadata": {
        "id": "MKxVbUzaef8o",
        "colab_type": "code",
        "outputId": "69de2554-f013-405d-d4b6-1993b382c3d5",
        "colab": {
          "base_uri": "https://localhost:8080/",
          "height": 377
        }
      },
      "source": [
        "imdb.head()"
      ],
      "execution_count": 23,
      "outputs": [
        {
          "output_type": "execute_result",
          "data": {
            "text/html": [
              "<div>\n",
              "<style scoped>\n",
              "    .dataframe tbody tr th:only-of-type {\n",
              "        vertical-align: middle;\n",
              "    }\n",
              "\n",
              "    .dataframe tbody tr th {\n",
              "        vertical-align: top;\n",
              "    }\n",
              "\n",
              "    .dataframe thead th {\n",
              "        text-align: right;\n",
              "    }\n",
              "</style>\n",
              "<table border=\"1\" class=\"dataframe\">\n",
              "  <thead>\n",
              "    <tr style=\"text-align: right;\">\n",
              "      <th></th>\n",
              "      <th>color</th>\n",
              "      <th>director_name</th>\n",
              "      <th>num_critic_for_reviews</th>\n",
              "      <th>duration</th>\n",
              "      <th>director_facebook_likes</th>\n",
              "      <th>actor_3_facebook_likes</th>\n",
              "      <th>actor_2_name</th>\n",
              "      <th>actor_1_facebook_likes</th>\n",
              "      <th>gross</th>\n",
              "      <th>genres</th>\n",
              "      <th>actor_1_name</th>\n",
              "      <th>movie_title</th>\n",
              "      <th>num_voted_users</th>\n",
              "      <th>cast_total_facebook_likes</th>\n",
              "      <th>actor_3_name</th>\n",
              "      <th>facenumber_in_poster</th>\n",
              "      <th>plot_keywords</th>\n",
              "      <th>movie_imdb_link</th>\n",
              "      <th>num_user_for_reviews</th>\n",
              "      <th>language</th>\n",
              "      <th>country</th>\n",
              "      <th>content_rating</th>\n",
              "      <th>budget</th>\n",
              "      <th>title_year</th>\n",
              "      <th>actor_2_facebook_likes</th>\n",
              "      <th>imdb_score</th>\n",
              "      <th>aspect_ratio</th>\n",
              "      <th>movie_facebook_likes</th>\n",
              "    </tr>\n",
              "  </thead>\n",
              "  <tbody>\n",
              "    <tr>\n",
              "      <th>0</th>\n",
              "      <td>Color</td>\n",
              "      <td>James Cameron</td>\n",
              "      <td>723.0</td>\n",
              "      <td>178.0</td>\n",
              "      <td>0.0</td>\n",
              "      <td>855.0</td>\n",
              "      <td>Joel David Moore</td>\n",
              "      <td>1000.0</td>\n",
              "      <td>760505847.0</td>\n",
              "      <td>Action|Adventure|Fantasy|Sci-Fi</td>\n",
              "      <td>CCH Pounder</td>\n",
              "      <td>Avatar</td>\n",
              "      <td>886204</td>\n",
              "      <td>4834</td>\n",
              "      <td>Wes Studi</td>\n",
              "      <td>0.0</td>\n",
              "      <td>avatar|future|marine|native|paraplegic</td>\n",
              "      <td>http://www.imdb.com/title/tt0499549/?ref_=fn_t...</td>\n",
              "      <td>3054.0</td>\n",
              "      <td>English</td>\n",
              "      <td>USA</td>\n",
              "      <td>PG-13</td>\n",
              "      <td>237000000.0</td>\n",
              "      <td>2009.0</td>\n",
              "      <td>936.0</td>\n",
              "      <td>7.9</td>\n",
              "      <td>1.78</td>\n",
              "      <td>33000</td>\n",
              "    </tr>\n",
              "    <tr>\n",
              "      <th>1</th>\n",
              "      <td>Color</td>\n",
              "      <td>Gore Verbinski</td>\n",
              "      <td>302.0</td>\n",
              "      <td>169.0</td>\n",
              "      <td>563.0</td>\n",
              "      <td>1000.0</td>\n",
              "      <td>Orlando Bloom</td>\n",
              "      <td>40000.0</td>\n",
              "      <td>309404152.0</td>\n",
              "      <td>Action|Adventure|Fantasy</td>\n",
              "      <td>Johnny Depp</td>\n",
              "      <td>Pirates of the Caribbean: At World's End</td>\n",
              "      <td>471220</td>\n",
              "      <td>48350</td>\n",
              "      <td>Jack Davenport</td>\n",
              "      <td>0.0</td>\n",
              "      <td>goddess|marriage ceremony|marriage proposal|pi...</td>\n",
              "      <td>http://www.imdb.com/title/tt0449088/?ref_=fn_t...</td>\n",
              "      <td>1238.0</td>\n",
              "      <td>English</td>\n",
              "      <td>USA</td>\n",
              "      <td>PG-13</td>\n",
              "      <td>300000000.0</td>\n",
              "      <td>2007.0</td>\n",
              "      <td>5000.0</td>\n",
              "      <td>7.1</td>\n",
              "      <td>2.35</td>\n",
              "      <td>0</td>\n",
              "    </tr>\n",
              "    <tr>\n",
              "      <th>2</th>\n",
              "      <td>Color</td>\n",
              "      <td>Sam Mendes</td>\n",
              "      <td>602.0</td>\n",
              "      <td>148.0</td>\n",
              "      <td>0.0</td>\n",
              "      <td>161.0</td>\n",
              "      <td>Rory Kinnear</td>\n",
              "      <td>11000.0</td>\n",
              "      <td>200074175.0</td>\n",
              "      <td>Action|Adventure|Thriller</td>\n",
              "      <td>Christoph Waltz</td>\n",
              "      <td>Spectre</td>\n",
              "      <td>275868</td>\n",
              "      <td>11700</td>\n",
              "      <td>Stephanie Sigman</td>\n",
              "      <td>1.0</td>\n",
              "      <td>bomb|espionage|sequel|spy|terrorist</td>\n",
              "      <td>http://www.imdb.com/title/tt2379713/?ref_=fn_t...</td>\n",
              "      <td>994.0</td>\n",
              "      <td>English</td>\n",
              "      <td>UK</td>\n",
              "      <td>PG-13</td>\n",
              "      <td>245000000.0</td>\n",
              "      <td>2015.0</td>\n",
              "      <td>393.0</td>\n",
              "      <td>6.8</td>\n",
              "      <td>2.35</td>\n",
              "      <td>85000</td>\n",
              "    </tr>\n",
              "    <tr>\n",
              "      <th>3</th>\n",
              "      <td>Color</td>\n",
              "      <td>Christopher Nolan</td>\n",
              "      <td>813.0</td>\n",
              "      <td>164.0</td>\n",
              "      <td>22000.0</td>\n",
              "      <td>23000.0</td>\n",
              "      <td>Christian Bale</td>\n",
              "      <td>27000.0</td>\n",
              "      <td>448130642.0</td>\n",
              "      <td>Action|Thriller</td>\n",
              "      <td>Tom Hardy</td>\n",
              "      <td>The Dark Knight Rises</td>\n",
              "      <td>1144337</td>\n",
              "      <td>106759</td>\n",
              "      <td>Joseph Gordon-Levitt</td>\n",
              "      <td>0.0</td>\n",
              "      <td>deception|imprisonment|lawlessness|police offi...</td>\n",
              "      <td>http://www.imdb.com/title/tt1345836/?ref_=fn_t...</td>\n",
              "      <td>2701.0</td>\n",
              "      <td>English</td>\n",
              "      <td>USA</td>\n",
              "      <td>PG-13</td>\n",
              "      <td>250000000.0</td>\n",
              "      <td>2012.0</td>\n",
              "      <td>23000.0</td>\n",
              "      <td>8.5</td>\n",
              "      <td>2.35</td>\n",
              "      <td>164000</td>\n",
              "    </tr>\n",
              "    <tr>\n",
              "      <th>4</th>\n",
              "      <td>NaN</td>\n",
              "      <td>Doug Walker</td>\n",
              "      <td>NaN</td>\n",
              "      <td>NaN</td>\n",
              "      <td>131.0</td>\n",
              "      <td>NaN</td>\n",
              "      <td>Rob Walker</td>\n",
              "      <td>131.0</td>\n",
              "      <td>NaN</td>\n",
              "      <td>Documentary</td>\n",
              "      <td>Doug Walker</td>\n",
              "      <td>Star Wars: Episode VII - The Force Awakens    ...</td>\n",
              "      <td>8</td>\n",
              "      <td>143</td>\n",
              "      <td>NaN</td>\n",
              "      <td>0.0</td>\n",
              "      <td>NaN</td>\n",
              "      <td>http://www.imdb.com/title/tt5289954/?ref_=fn_t...</td>\n",
              "      <td>NaN</td>\n",
              "      <td>NaN</td>\n",
              "      <td>NaN</td>\n",
              "      <td>NaN</td>\n",
              "      <td>NaN</td>\n",
              "      <td>NaN</td>\n",
              "      <td>12.0</td>\n",
              "      <td>7.1</td>\n",
              "      <td>NaN</td>\n",
              "      <td>0</td>\n",
              "    </tr>\n",
              "  </tbody>\n",
              "</table>\n",
              "</div>"
            ],
            "text/plain": [
              "   color      director_name  ...  aspect_ratio  movie_facebook_likes\n",
              "0  Color      James Cameron  ...          1.78                 33000\n",
              "1  Color     Gore Verbinski  ...          2.35                     0\n",
              "2  Color         Sam Mendes  ...          2.35                 85000\n",
              "3  Color  Christopher Nolan  ...          2.35                164000\n",
              "4    NaN        Doug Walker  ...           NaN                     0\n",
              "\n",
              "[5 rows x 28 columns]"
            ]
          },
          "metadata": {
            "tags": []
          },
          "execution_count": 23
        }
      ]
    },
    {
      "cell_type": "code",
      "metadata": {
        "id": "Ew_94Mx8UTi5",
        "colab_type": "code",
        "outputId": "bd801d61-f80e-4fca-a342-172c7df818e7",
        "colab": {
          "base_uri": "https://localhost:8080/",
          "height": 682
        }
      },
      "source": [
        "imdb.info()"
      ],
      "execution_count": 24,
      "outputs": [
        {
          "output_type": "stream",
          "text": [
            "<class 'pandas.core.frame.DataFrame'>\n",
            "RangeIndex: 5043 entries, 0 to 5042\n",
            "Data columns (total 28 columns):\n",
            " #   Column                     Non-Null Count  Dtype  \n",
            "---  ------                     --------------  -----  \n",
            " 0   color                      5024 non-null   object \n",
            " 1   director_name              4939 non-null   object \n",
            " 2   num_critic_for_reviews     4993 non-null   float64\n",
            " 3   duration                   5028 non-null   float64\n",
            " 4   director_facebook_likes    4939 non-null   float64\n",
            " 5   actor_3_facebook_likes     5020 non-null   float64\n",
            " 6   actor_2_name               5030 non-null   object \n",
            " 7   actor_1_facebook_likes     5036 non-null   float64\n",
            " 8   gross                      4159 non-null   float64\n",
            " 9   genres                     5043 non-null   object \n",
            " 10  actor_1_name               5036 non-null   object \n",
            " 11  movie_title                5043 non-null   object \n",
            " 12  num_voted_users            5043 non-null   int64  \n",
            " 13  cast_total_facebook_likes  5043 non-null   int64  \n",
            " 14  actor_3_name               5020 non-null   object \n",
            " 15  facenumber_in_poster       5030 non-null   float64\n",
            " 16  plot_keywords              4890 non-null   object \n",
            " 17  movie_imdb_link            5043 non-null   object \n",
            " 18  num_user_for_reviews       5022 non-null   float64\n",
            " 19  language                   5031 non-null   object \n",
            " 20  country                    5038 non-null   object \n",
            " 21  content_rating             4740 non-null   object \n",
            " 22  budget                     4551 non-null   float64\n",
            " 23  title_year                 4935 non-null   float64\n",
            " 24  actor_2_facebook_likes     5030 non-null   float64\n",
            " 25  imdb_score                 5043 non-null   float64\n",
            " 26  aspect_ratio               4714 non-null   float64\n",
            " 27  movie_facebook_likes       5043 non-null   int64  \n",
            "dtypes: float64(13), int64(3), object(12)\n",
            "memory usage: 1.1+ MB\n"
          ],
          "name": "stdout"
        }
      ]
    },
    {
      "cell_type": "markdown",
      "metadata": {
        "id": "z-QBMdJGVZht",
        "colab_type": "text"
      },
      "source": [
        "  Informaçoes repetidas encontradas durante a aula, limpalás é importante:"
      ]
    },
    {
      "cell_type": "code",
      "metadata": {
        "id": "fe7OOPUJU39_",
        "colab_type": "code",
        "outputId": "6c41202f-ebec-4b91-eadc-c84419b9e016",
        "colab": {
          "base_uri": "https://localhost:8080/",
          "height": 682
        }
      },
      "source": [
        "imdb = imdb.drop_duplicates()\n",
        "imdb.info()"
      ],
      "execution_count": 25,
      "outputs": [
        {
          "output_type": "stream",
          "text": [
            "<class 'pandas.core.frame.DataFrame'>\n",
            "Int64Index: 4998 entries, 0 to 5042\n",
            "Data columns (total 28 columns):\n",
            " #   Column                     Non-Null Count  Dtype  \n",
            "---  ------                     --------------  -----  \n",
            " 0   color                      4979 non-null   object \n",
            " 1   director_name              4895 non-null   object \n",
            " 2   num_critic_for_reviews     4949 non-null   float64\n",
            " 3   duration                   4983 non-null   float64\n",
            " 4   director_facebook_likes    4895 non-null   float64\n",
            " 5   actor_3_facebook_likes     4975 non-null   float64\n",
            " 6   actor_2_name               4985 non-null   object \n",
            " 7   actor_1_facebook_likes     4991 non-null   float64\n",
            " 8   gross                      4124 non-null   float64\n",
            " 9   genres                     4998 non-null   object \n",
            " 10  actor_1_name               4991 non-null   object \n",
            " 11  movie_title                4998 non-null   object \n",
            " 12  num_voted_users            4998 non-null   int64  \n",
            " 13  cast_total_facebook_likes  4998 non-null   int64  \n",
            " 14  actor_3_name               4975 non-null   object \n",
            " 15  facenumber_in_poster       4985 non-null   float64\n",
            " 16  plot_keywords              4846 non-null   object \n",
            " 17  movie_imdb_link            4998 non-null   object \n",
            " 18  num_user_for_reviews       4977 non-null   float64\n",
            " 19  language                   4986 non-null   object \n",
            " 20  country                    4993 non-null   object \n",
            " 21  content_rating             4697 non-null   object \n",
            " 22  budget                     4511 non-null   float64\n",
            " 23  title_year                 4891 non-null   float64\n",
            " 24  actor_2_facebook_likes     4985 non-null   float64\n",
            " 25  imdb_score                 4998 non-null   float64\n",
            " 26  aspect_ratio               4671 non-null   float64\n",
            " 27  movie_facebook_likes       4998 non-null   int64  \n",
            "dtypes: float64(13), int64(3), object(12)\n",
            "memory usage: 1.1+ MB\n"
          ],
          "name": "stdout"
        }
      ]
    },
    {
      "cell_type": "markdown",
      "metadata": {
        "id": "NLi13Be5WKVo",
        "colab_type": "text"
      },
      "source": [
        "Diferentes países tem diferentes sistemas monetários no db"
      ]
    },
    {
      "cell_type": "code",
      "metadata": {
        "id": "u2xB7ZGzVx3J",
        "colab_type": "code",
        "outputId": "5dddbc6b-1b7e-4ced-fc52-bb144527d32e",
        "colab": {
          "base_uri": "https://localhost:8080/",
          "height": 264
        }
      },
      "source": [
        "imdb[\"country\"].unique()"
      ],
      "execution_count": 26,
      "outputs": [
        {
          "output_type": "execute_result",
          "data": {
            "text/plain": [
              "array(['USA', 'UK', nan, 'New Zealand', 'Canada', 'Australia', 'Belgium',\n",
              "       'Japan', 'Germany', 'China', 'France', 'New Line', 'Mexico',\n",
              "       'Spain', 'Hong Kong', 'Czech Republic', 'India', 'Soviet Union',\n",
              "       'South Korea', 'Peru', 'Italy', 'Russia', 'Aruba', 'Denmark',\n",
              "       'Libya', 'Ireland', 'South Africa', 'Iceland', 'Switzerland',\n",
              "       'Romania', 'West Germany', 'Chile', 'Netherlands', 'Hungary',\n",
              "       'Panama', 'Greece', 'Sweden', 'Norway', 'Taiwan', 'Official site',\n",
              "       'Cambodia', 'Thailand', 'Slovakia', 'Bulgaria', 'Iran', 'Poland',\n",
              "       'Georgia', 'Turkey', 'Nigeria', 'Brazil', 'Finland', 'Bahamas',\n",
              "       'Argentina', 'Colombia', 'Israel', 'Egypt', 'Kyrgyzstan',\n",
              "       'Indonesia', 'Pakistan', 'Slovenia', 'Afghanistan',\n",
              "       'Dominican Republic', 'Cameroon', 'United Arab Emirates', 'Kenya',\n",
              "       'Philippines'], dtype=object)"
            ]
          },
          "metadata": {
            "tags": []
          },
          "execution_count": 26
        }
      ]
    },
    {
      "cell_type": "code",
      "metadata": {
        "id": "ENfwpuVcWPKE",
        "colab_type": "code",
        "outputId": "5f0e17ca-e53e-445b-cd79-8bc324a89076",
        "colab": {
          "base_uri": "https://localhost:8080/",
          "height": 682
        }
      },
      "source": [
        "imdbUSA = imdb.query(\"country == 'USA'\")\n",
        "imdbUSA.info()"
      ],
      "execution_count": 27,
      "outputs": [
        {
          "output_type": "stream",
          "text": [
            "<class 'pandas.core.frame.DataFrame'>\n",
            "Int64Index: 3773 entries, 0 to 5042\n",
            "Data columns (total 28 columns):\n",
            " #   Column                     Non-Null Count  Dtype  \n",
            "---  ------                     --------------  -----  \n",
            " 0   color                      3759 non-null   object \n",
            " 1   director_name              3700 non-null   object \n",
            " 2   num_critic_for_reviews     3735 non-null   float64\n",
            " 3   duration                   3767 non-null   float64\n",
            " 4   director_facebook_likes    3700 non-null   float64\n",
            " 5   actor_3_facebook_likes     3760 non-null   float64\n",
            " 6   actor_2_name               3766 non-null   object \n",
            " 7   actor_1_facebook_likes     3769 non-null   float64\n",
            " 8   gross                      3208 non-null   float64\n",
            " 9   genres                     3773 non-null   object \n",
            " 10  actor_1_name               3769 non-null   object \n",
            " 11  movie_title                3773 non-null   object \n",
            " 12  num_voted_users            3773 non-null   int64  \n",
            " 13  cast_total_facebook_likes  3773 non-null   int64  \n",
            " 14  actor_3_name               3760 non-null   object \n",
            " 15  facenumber_in_poster       3761 non-null   float64\n",
            " 16  plot_keywords              3682 non-null   object \n",
            " 17  movie_imdb_link            3773 non-null   object \n",
            " 18  num_user_for_reviews       3760 non-null   float64\n",
            " 19  language                   3763 non-null   object \n",
            " 20  country                    3773 non-null   object \n",
            " 21  content_rating             3615 non-null   object \n",
            " 22  budget                     3478 non-null   float64\n",
            " 23  title_year                 3700 non-null   float64\n",
            " 24  actor_2_facebook_likes     3766 non-null   float64\n",
            " 25  imdb_score                 3773 non-null   float64\n",
            " 26  aspect_ratio               3553 non-null   float64\n",
            " 27  movie_facebook_likes       3773 non-null   int64  \n",
            "dtypes: float64(13), int64(3), object(12)\n",
            "memory usage: 854.8+ KB\n"
          ],
          "name": "stdout"
        }
      ]
    },
    {
      "cell_type": "markdown",
      "metadata": {
        "id": "gQFvDo64ZCK1",
        "colab_type": "text"
      },
      "source": [
        "## Desafio 1\n",
        "\n",
        "  Plotar e analisar o Boxplot da média (coluna imbd_score) dos filmes em preto e branco e coloridos."
      ]
    },
    {
      "cell_type": "code",
      "metadata": {
        "id": "uDq-I4R6doXW",
        "colab_type": "code",
        "outputId": "accfbe29-b5fa-468d-a554-865b80c0be31",
        "colab": {
          "base_uri": "https://localhost:8080/",
          "height": 0
        }
      },
      "source": [
        "filmesColoridos = imdbUSA.query(\"color == 'Color'\")\n",
        "filmesPretoEBranco = imdbUSA.query(\"color == ' Black and White'\")\n",
        "\n",
        "# 4% dos filmes sao preto e branco neste DB\n",
        "round(len(filmesPretoEBranco[\"color\"]) /\n",
        "      ((len(filmesPretoEBranco[\"color\"]) +\n",
        "        len(filmesColoridos[\"color\"]))), 2) "
      ],
      "execution_count": 28,
      "outputs": [
        {
          "output_type": "execute_result",
          "data": {
            "text/plain": [
              "0.04"
            ]
          },
          "metadata": {
            "tags": []
          },
          "execution_count": 28
        }
      ]
    },
    {
      "cell_type": "code",
      "metadata": {
        "id": "iWsqCCECfws_",
        "colab_type": "code",
        "outputId": "e1864398-1e07-4f3a-a5c9-66fffa7ff283",
        "colab": {
          "base_uri": "https://localhost:8080/",
          "height": 0
        }
      },
      "source": [
        "filmesColoridos[\"imdb_score\"].mean()"
      ],
      "execution_count": 29,
      "outputs": [
        {
          "output_type": "execute_result",
          "data": {
            "text/plain": [
              "6.337025754638607"
            ]
          },
          "metadata": {
            "tags": []
          },
          "execution_count": 29
        }
      ]
    },
    {
      "cell_type": "code",
      "metadata": {
        "id": "akWUgki9f_i0",
        "colab_type": "code",
        "outputId": "4dc6814d-573a-4fa5-cfe2-474732af642c",
        "colab": {
          "base_uri": "https://localhost:8080/",
          "height": 0
        }
      },
      "source": [
        "filmesPretoEBranco[\"imdb_score\"].mean()"
      ],
      "execution_count": 30,
      "outputs": [
        {
          "output_type": "execute_result",
          "data": {
            "text/plain": [
              "7.158783783783784"
            ]
          },
          "metadata": {
            "tags": []
          },
          "execution_count": 30
        }
      ]
    },
    {
      "cell_type": "markdown",
      "metadata": {
        "id": "mB60kewGmxMA",
        "colab_type": "text"
      },
      "source": [
        "### box plot notas filme preto e branco x filmes coloridos"
      ]
    },
    {
      "cell_type": "code",
      "metadata": {
        "id": "jshSjpTFgDcO",
        "colab_type": "code",
        "outputId": "4fdad4a0-3a0c-4a80-9291-58c5f0a259a5",
        "colab": {
          "base_uri": "https://localhost:8080/",
          "height": 0
        }
      },
      "source": [
        "f, a = plt.subplots(1, 2, figsize=[12,5])\n",
        "\n",
        "PeBplt = sns.boxplot(data=filmesPretoEBranco, y=[\"imdb_score\"], width=0.2, ax=a[0])\n",
        "PeBplt.set(xlabel='Filmes preto e branco', ylabel='notas', yticks=range(11))\n",
        "\n",
        "Colplt = sns.boxplot(data=filmesColoridos, y=[\"imdb_score\"], width=0.2, ax=a[1])\n",
        "Colplt.set(xlabel='Filmes coloridos', ylabel='notas', yticks=range(11))\n",
        "\n",
        "plt.show()"
      ],
      "execution_count": 31,
      "outputs": [
        {
          "output_type": "display_data",
          "data": {
            "image/png": "[encoded data removed]",
            "text/plain": [
              "<Figure size 864x360 with 2 Axes>"
            ]
          },
          "metadata": {
            "tags": [],
            "needs_background": "light"
          }
        }
      ]
    },
    {
      "cell_type": "markdown",
      "metadata": {
        "id": "Rfjh6R9bnP56",
        "colab_type": "text"
      },
      "source": [
        "Filmes preto e branco parecem ter um número de notas geralmente acíma dos coloridos, entretanto levando em conta que apenas 4% dos filmes totais levados em conta sao preto e branco, e os gráficos acima, é possivel entender que embora tenham uma média mais elevada em geral, os filmes preto e brano são a minoria, além de que de acordo com o próprio gráfico é possivel ver que há tambem filmes coloridos com nota um tanto mais elevada que os filmes preto e branco com maior nota.\n",
        "\n",
        "\n"
      ]
    },
    {
      "cell_type": "markdown",
      "metadata": {
        "id": "Z_XjrEYEpNP_",
        "colab_type": "text"
      },
      "source": [
        "## Desafio 2\n",
        "\n",
        "No gráfico de budget por lucro temos um ponto com muito custo e prejuizo, descubra com é esse filme (budget próximo de 2.5)."
      ]
    },
    {
      "cell_type": "code",
      "metadata": {
        "id": "TzsBVUZ8pxnw",
        "colab_type": "code",
        "outputId": "a9f7ac26-fab9-44a6-a893-bd265d80c066",
        "colab": {
          "base_uri": "https://localhost:8080/",
          "height": 0
        }
      },
      "source": [
        "imdbUSA['lucro'] = imdbUSA['gross'] - imdbUSA['budget']\n",
        "\n",
        "#encontra o filme com o menor lucro\n",
        "imdbUSA.loc[imdbUSA.lucro.sort_values().head(1).index] "
      ],
      "execution_count": 32,
      "outputs": [
        {
          "output_type": "stream",
          "text": [
            "/usr/local/lib/python3.6/dist-packages/ipykernel_launcher.py:1: SettingWithCopyWarning: \n",
            "A value is trying to be set on a copy of a slice from a DataFrame.\n",
            "Try using .loc[row_indexer,col_indexer] = value instead\n",
            "\n",
            "See the caveats in the documentation: https://pandas.pydata.org/pandas-docs/stable/user_guide/indexing.html#returning-a-view-versus-a-copy\n",
            "  \"\"\"Entry point for launching an IPython kernel.\n"
          ],
          "name": "stderr"
        },
        {
          "output_type": "execute_result",
          "data": {
            "text/html": [
              "<div>\n",
              "<style scoped>\n",
              "    .dataframe tbody tr th:only-of-type {\n",
              "        vertical-align: middle;\n",
              "    }\n",
              "\n",
              "    .dataframe tbody tr th {\n",
              "        vertical-align: top;\n",
              "    }\n",
              "\n",
              "    .dataframe thead th {\n",
              "        text-align: right;\n",
              "    }\n",
              "</style>\n",
              "<table border=\"1\" class=\"dataframe\">\n",
              "  <thead>\n",
              "    <tr style=\"text-align: right;\">\n",
              "      <th></th>\n",
              "      <th>color</th>\n",
              "      <th>director_name</th>\n",
              "      <th>num_critic_for_reviews</th>\n",
              "      <th>duration</th>\n",
              "      <th>director_facebook_likes</th>\n",
              "      <th>actor_3_facebook_likes</th>\n",
              "      <th>actor_2_name</th>\n",
              "      <th>actor_1_facebook_likes</th>\n",
              "      <th>gross</th>\n",
              "      <th>genres</th>\n",
              "      <th>actor_1_name</th>\n",
              "      <th>movie_title</th>\n",
              "      <th>num_voted_users</th>\n",
              "      <th>cast_total_facebook_likes</th>\n",
              "      <th>actor_3_name</th>\n",
              "      <th>facenumber_in_poster</th>\n",
              "      <th>plot_keywords</th>\n",
              "      <th>movie_imdb_link</th>\n",
              "      <th>num_user_for_reviews</th>\n",
              "      <th>language</th>\n",
              "      <th>country</th>\n",
              "      <th>content_rating</th>\n",
              "      <th>budget</th>\n",
              "      <th>title_year</th>\n",
              "      <th>actor_2_facebook_likes</th>\n",
              "      <th>imdb_score</th>\n",
              "      <th>aspect_ratio</th>\n",
              "      <th>movie_facebook_likes</th>\n",
              "      <th>lucro</th>\n",
              "    </tr>\n",
              "  </thead>\n",
              "  <tbody>\n",
              "    <tr>\n",
              "      <th>5</th>\n",
              "      <td>Color</td>\n",
              "      <td>Andrew Stanton</td>\n",
              "      <td>462.0</td>\n",
              "      <td>132.0</td>\n",
              "      <td>475.0</td>\n",
              "      <td>530.0</td>\n",
              "      <td>Samantha Morton</td>\n",
              "      <td>640.0</td>\n",
              "      <td>73058679.0</td>\n",
              "      <td>Action|Adventure|Sci-Fi</td>\n",
              "      <td>Daryl Sabara</td>\n",
              "      <td>John Carter</td>\n",
              "      <td>212204</td>\n",
              "      <td>1873</td>\n",
              "      <td>Polly Walker</td>\n",
              "      <td>1.0</td>\n",
              "      <td>alien|american civil war|male nipple|mars|prin...</td>\n",
              "      <td>http://www.imdb.com/title/tt0401729/?ref_=fn_t...</td>\n",
              "      <td>738.0</td>\n",
              "      <td>English</td>\n",
              "      <td>USA</td>\n",
              "      <td>PG-13</td>\n",
              "      <td>263700000.0</td>\n",
              "      <td>2012.0</td>\n",
              "      <td>632.0</td>\n",
              "      <td>6.6</td>\n",
              "      <td>2.35</td>\n",
              "      <td>24000</td>\n",
              "      <td>-190641321.0</td>\n",
              "    </tr>\n",
              "  </tbody>\n",
              "</table>\n",
              "</div>"
            ],
            "text/plain": [
              "   color   director_name  ...  movie_facebook_likes        lucro\n",
              "5  Color  Andrew Stanton  ...                 24000 -190641321.0\n",
              "\n",
              "[1 rows x 29 columns]"
            ]
          },
          "metadata": {
            "tags": []
          },
          "execution_count": 32
        }
      ]
    },
    {
      "cell_type": "markdown",
      "metadata": {
        "id": "kT5Y-r3WsyYQ",
        "colab_type": "text"
      },
      "source": [
        "## Desafio 3\n",
        "  Em aula falamos que talvez, filmes mais recentes podem ter prejuizo pois ainda não tiveram tempo de recuperar o investimento. Analise essas informações e nos conte quais foram suas conclusões."
      ]
    },
    {
      "cell_type": "code",
      "metadata": {
        "id": "iAZIVudVs4ax",
        "colab_type": "code",
        "colab": {}
      },
      "source": [
        "newMovies = imdbUSA.sort_values(\"title_year\", ascending=False).query(\"title_year>2015\")\n",
        "#os filmes mais novos sao de 2016"
      ],
      "execution_count": 0,
      "outputs": []
    },
    {
      "cell_type": "code",
      "metadata": {
        "id": "9yAf810wvB30",
        "colab_type": "code",
        "outputId": "f09ef642-1c08-49bb-c435-44b075c5c5c7",
        "colab": {
          "base_uri": "https://localhost:8080/",
          "height": 0
        }
      },
      "source": [
        "newMovies[[\"budget\", \"lucro\"]].plot(kind=\"scatter\", y='budget', x='lucro')"
      ],
      "execution_count": 34,
      "outputs": [
        {
          "output_type": "execute_result",
          "data": {
            "text/plain": [
              "<matplotlib.axes._subplots.AxesSubplot at 0x7f42aba23668>"
            ]
          },
          "metadata": {
            "tags": []
          },
          "execution_count": 34
        },
        {
          "output_type": "display_data",
          "data": {
            "image/png": "[encoded data removed]",
            "text/plain": [
              "<Figure size 432x288 with 1 Axes>"
            ]
          },
          "metadata": {
            "tags": [],
            "needs_background": "light"
          }
        }
      ]
    },
    {
      "cell_type": "markdown",
      "metadata": {
        "id": "zGcmHr1gylSl",
        "colab_type": "text"
      },
      "source": [
        "Contabilazando os filmes do ultimo ano presente no DF, boa parte deles nao teve nenhum lucro até o momente em que os dados foram tirados, os unicos que consiguram recuperar o gasto ou lucrar algo foram os que apresentam um baixo budget e alguns outliers."
      ]
    },
    {
      "cell_type": "code",
      "metadata": {
        "id": "BXQPtnjtzGWJ",
        "colab_type": "code",
        "outputId": "71677743-0245-4848-b8cd-759a1408b732",
        "colab": {
          "base_uri": "https://localhost:8080/",
          "height": 0
        }
      },
      "source": [
        "NovosFilmesComLucro = len(newMovies.query(\"lucro > 0\")[\"lucro\"])\n",
        "NovosFilmesComPrejuizo = len(newMovies.query(\"lucro <= 0\")[\"lucro\"])\n",
        "\n",
        "print(f\"Há {NovosFilmesComLucro} com algum lucro, {NovosFilmesComPrejuizo} com prejuizo({round(((NovosFilmesComPrejuizo / (NovosFilmesComPrejuizo + NovosFilmesComLucro))*100),2)}%)\")"
      ],
      "execution_count": 35,
      "outputs": [
        {
          "output_type": "stream",
          "text": [
            "Há 27 com algum lucro, 22 com prejuizo(44.9%)\n"
          ],
          "name": "stdout"
        }
      ]
    },
    {
      "cell_type": "markdown",
      "metadata": {
        "id": "CrPRB4hx3Nlz",
        "colab_type": "text"
      },
      "source": [
        "Observando essas informaçoes, porém sem saber exatamente quando elas foram coletadas, ainda nos permite comparálas com as informaçoes dos outro anos:"
      ]
    },
    {
      "cell_type": "code",
      "metadata": {
        "id": "lzUI53xT4qVK",
        "colab_type": "code",
        "outputId": "4003cb3c-899f-4081-9347-9416a1359e2a",
        "colab": {
          "base_uri": "https://localhost:8080/",
          "height": 0
        }
      },
      "source": [
        "imdbUSA[[\"budget\", \"lucro\"]].plot(kind=\"scatter\", y='budget', x='lucro')"
      ],
      "execution_count": 36,
      "outputs": [
        {
          "output_type": "execute_result",
          "data": {
            "text/plain": [
              "<matplotlib.axes._subplots.AxesSubplot at 0x7f42aba72ef0>"
            ]
          },
          "metadata": {
            "tags": []
          },
          "execution_count": 36
        },
        {
          "output_type": "display_data",
          "data": {
            "image/png": "[encoded data removed]",
            "text/plain": [
              "<Figure size 432x288 with 1 Axes>"
            ]
          },
          "metadata": {
            "tags": [],
            "needs_background": "light"
          }
        }
      ]
    },
    {
      "cell_type": "code",
      "metadata": {
        "id": "2nvnjzOD42uB",
        "colab_type": "code",
        "outputId": "388e07db-086c-4015-d841-3411a2c2cb7e",
        "colab": {
          "base_uri": "https://localhost:8080/",
          "height": 0
        }
      },
      "source": [
        "FilmesComLucro = len(imdbUSA.query(\"lucro > 0\")[\"lucro\"])\n",
        "FilmesComPrejuizo = len(imdbUSA.query(\"lucro <= 0\")[\"lucro\"])\n",
        "\n",
        "print(f\"Há {FilmesComLucro} com algum lucro, {FilmesComPrejuizo} com prejuizo({round(((FilmesComPrejuizo / (FilmesComPrejuizo+FilmesComLucro))*100),2)}%)\")"
      ],
      "execution_count": 37,
      "outputs": [
        {
          "output_type": "stream",
          "text": [
            "Há 1746 com algum lucro, 1301 com prejuizo(42.7%)\n"
          ],
          "name": "stdout"
        }
      ]
    },
    {
      "cell_type": "markdown",
      "metadata": {
        "id": "sSKH458q71xg",
        "colab_type": "text"
      },
      "source": [
        "Contabilizando boa parte dos filmes nos Estado Unido, 42.7% deles tem prejuizo(lucro <= 0), sendo assim os filmes contabilizados no ultimo ano do DB parecem indicar que os seus dados foram coletados com algum espaço de tempo após o lançamento dos filmes ja que o balanço de filmes com lucro X filmes com prejuizo parece se manter."
      ]
    },
    {
      "cell_type": "markdown",
      "metadata": {
        "id": "8XSR5RRG9_L0",
        "colab_type": "text"
      },
      "source": [
        "## Desafio 4\n",
        "\n",
        "Quais foram os filmes da decada pré 2° guerra que tiveram muito lucro."
      ]
    },
    {
      "cell_type": "code",
      "metadata": {
        "id": "XSAvf3WZ-Kgt",
        "colab_type": "code",
        "outputId": "3d0bc20e-6e66-4c98-d2f8-a1e083b3381d",
        "colab": {
          "base_uri": "https://localhost:8080/",
          "height": 0
        }
      },
      "source": [
        "#gráfico passado na aula\n",
        "budget_gross = imdbUSA.query(\"budget >0 | gross > 0\")[[\"title_year\", \"lucro\"]].dropna()\n",
        "\n",
        "sns.scatterplot(x=\"title_year\", y=\"lucro\", data = budget_gross)"
      ],
      "execution_count": 38,
      "outputs": [
        {
          "output_type": "execute_result",
          "data": {
            "text/plain": [
              "<matplotlib.axes._subplots.AxesSubplot at 0x7f42a8c19550>"
            ]
          },
          "metadata": {
            "tags": []
          },
          "execution_count": 38
        },
        {
          "output_type": "display_data",
          "data": {
            "image/png": "[encoded data removed]",
            "text/plain": [
              "<Figure size 432x288 with 1 Axes>"
            ]
          },
          "metadata": {
            "tags": [],
            "needs_background": "light"
          }
        }
      ]
    },
    {
      "cell_type": "code",
      "metadata": {
        "id": "Q4THlyKs-bEd",
        "colab_type": "code",
        "outputId": "db0c1f04-e63d-4b81-95e3-2054c5f60c02",
        "colab": {
          "base_uri": "https://localhost:8080/",
          "height": 0
        }
      },
      "source": [
        "#separa filmes antes daguerra e exclui os que nao tem lucro contabilizado\n",
        "filmesPreGuerra = imdbUSA.query(\"title_year < 1941\").query(\"lucro==lucro\")\n",
        "\n",
        "#pega os top 5 de maior lucro e separa as mais series uteis\n",
        "filmesPreGuerra.sort_values(\"title_year\", ascending=False)[[\"movie_title\", \"gross\", \"budget\", \"lucro\",\"imdb_score\"]].head()"
      ],
      "execution_count": 39,
      "outputs": [
        {
          "output_type": "execute_result",
          "data": {
            "text/html": [
              "<div>\n",
              "<style scoped>\n",
              "    .dataframe tbody tr th:only-of-type {\n",
              "        vertical-align: middle;\n",
              "    }\n",
              "\n",
              "    .dataframe tbody tr th {\n",
              "        vertical-align: top;\n",
              "    }\n",
              "\n",
              "    .dataframe thead th {\n",
              "        text-align: right;\n",
              "    }\n",
              "</style>\n",
              "<table border=\"1\" class=\"dataframe\">\n",
              "  <thead>\n",
              "    <tr style=\"text-align: right;\">\n",
              "      <th></th>\n",
              "      <th>movie_title</th>\n",
              "      <th>gross</th>\n",
              "      <th>budget</th>\n",
              "      <th>lucro</th>\n",
              "      <th>imdb_score</th>\n",
              "    </tr>\n",
              "  </thead>\n",
              "  <tbody>\n",
              "    <tr>\n",
              "      <th>1143</th>\n",
              "      <td>Pinocchio</td>\n",
              "      <td>84300000.0</td>\n",
              "      <td>2600000.0</td>\n",
              "      <td>81700000.0</td>\n",
              "      <td>7.5</td>\n",
              "    </tr>\n",
              "    <tr>\n",
              "      <th>4225</th>\n",
              "      <td>Fantasia</td>\n",
              "      <td>76400000.0</td>\n",
              "      <td>2280000.0</td>\n",
              "      <td>74120000.0</td>\n",
              "      <td>7.8</td>\n",
              "    </tr>\n",
              "    <tr>\n",
              "      <th>3970</th>\n",
              "      <td>Gone with the Wind</td>\n",
              "      <td>198655278.0</td>\n",
              "      <td>3977000.0</td>\n",
              "      <td>194678278.0</td>\n",
              "      <td>8.2</td>\n",
              "    </tr>\n",
              "    <tr>\n",
              "      <th>4157</th>\n",
              "      <td>The Wizard of Oz</td>\n",
              "      <td>22202612.0</td>\n",
              "      <td>2800000.0</td>\n",
              "      <td>19402612.0</td>\n",
              "      <td>8.1</td>\n",
              "    </tr>\n",
              "    <tr>\n",
              "      <th>4449</th>\n",
              "      <td>Snow White and the Seven Dwarfs</td>\n",
              "      <td>184925485.0</td>\n",
              "      <td>2000000.0</td>\n",
              "      <td>182925485.0</td>\n",
              "      <td>7.7</td>\n",
              "    </tr>\n",
              "  </tbody>\n",
              "</table>\n",
              "</div>"
            ],
            "text/plain": [
              "                           movie_title        gross  ...        lucro  imdb_score\n",
              "1143                        Pinocchio    84300000.0  ...   81700000.0         7.5\n",
              "4225                         Fantasia    76400000.0  ...   74120000.0         7.8\n",
              "3970               Gone with the Wind   198655278.0  ...  194678278.0         8.2\n",
              "4157                 The Wizard of Oz    22202612.0  ...   19402612.0         8.1\n",
              "4449  Snow White and the Seven Dwarfs   184925485.0  ...  182925485.0         7.7\n",
              "\n",
              "[5 rows x 5 columns]"
            ]
          },
          "metadata": {
            "tags": []
          },
          "execution_count": 39
        }
      ]
    },
    {
      "cell_type": "markdown",
      "metadata": {
        "id": "F1V3nLSrAFvB",
        "colab_type": "text"
      },
      "source": [
        "## Desafio 5\n",
        "No gráfico de filmes_irmaos por dindin temos alguns pontos estranhos entre 15 e 20. Confirme a tese genial do Paulo que o cidadão estranho é o Woody Allen. (Se ele tiver errado pode cornete nas redes sociais kkkkk)"
      ]
    },
    {
      "cell_type": "code",
      "metadata": {
        "id": "C4qca0yBAsfa",
        "colab_type": "code",
        "outputId": "99c73eec-2b9a-4072-f1da-aeaf178d61ef",
        "colab": {
          "base_uri": "https://localhost:8080/",
          "height": 607
        }
      },
      "source": [
        "filmesPorDiretor = imdbUSA.director_name.value_counts().rename(\"filmes_do_diretor\")\n",
        "\n",
        "arrecadacaoPorDiretor = imdbUSA.join(filmesPorDiretor, on=\"director_name\")\n",
        "arrecadacaoPorDiretor.query(\" 19 > filmes_do_diretor > 16\")[[\"director_name\", \"gross\", \"title_year\", 'filmes_do_diretor']]"
      ],
      "execution_count": 69,
      "outputs": [
        {
          "output_type": "execute_result",
          "data": {
            "text/html": [
              "<div>\n",
              "<style scoped>\n",
              "    .dataframe tbody tr th:only-of-type {\n",
              "        vertical-align: middle;\n",
              "    }\n",
              "\n",
              "    .dataframe tbody tr th {\n",
              "        vertical-align: top;\n",
              "    }\n",
              "\n",
              "    .dataframe thead th {\n",
              "        text-align: right;\n",
              "    }\n",
              "</style>\n",
              "<table border=\"1\" class=\"dataframe\">\n",
              "  <thead>\n",
              "    <tr style=\"text-align: right;\">\n",
              "      <th></th>\n",
              "      <th>director_name</th>\n",
              "      <th>gross</th>\n",
              "      <th>title_year</th>\n",
              "      <th>filmes_do_diretor</th>\n",
              "    </tr>\n",
              "  </thead>\n",
              "  <tbody>\n",
              "    <tr>\n",
              "      <th>1861</th>\n",
              "      <td>Woody Allen</td>\n",
              "      <td>7496522.0</td>\n",
              "      <td>2001.0</td>\n",
              "      <td>18.0</td>\n",
              "    </tr>\n",
              "    <tr>\n",
              "      <th>2131</th>\n",
              "      <td>Woody Allen</td>\n",
              "      <td>16684352.0</td>\n",
              "      <td>2012.0</td>\n",
              "      <td>18.0</td>\n",
              "    </tr>\n",
              "    <tr>\n",
              "      <th>2275</th>\n",
              "      <td>Woody Allen</td>\n",
              "      <td>13383737.0</td>\n",
              "      <td>1994.0</td>\n",
              "      <td>18.0</td>\n",
              "    </tr>\n",
              "    <tr>\n",
              "      <th>2287</th>\n",
              "      <td>Woody Allen</td>\n",
              "      <td>10569071.0</td>\n",
              "      <td>1997.0</td>\n",
              "      <td>18.0</td>\n",
              "    </tr>\n",
              "    <tr>\n",
              "      <th>2291</th>\n",
              "      <td>Woody Allen</td>\n",
              "      <td>9714482.0</td>\n",
              "      <td>1996.0</td>\n",
              "      <td>18.0</td>\n",
              "    </tr>\n",
              "    <tr>\n",
              "      <th>2415</th>\n",
              "      <td>Woody Allen</td>\n",
              "      <td>33404871.0</td>\n",
              "      <td>2013.0</td>\n",
              "      <td>18.0</td>\n",
              "    </tr>\n",
              "    <tr>\n",
              "      <th>2430</th>\n",
              "      <td>Woody Allen</td>\n",
              "      <td>17071230.0</td>\n",
              "      <td>2000.0</td>\n",
              "      <td>18.0</td>\n",
              "    </tr>\n",
              "    <tr>\n",
              "      <th>2457</th>\n",
              "      <td>Woody Allen</td>\n",
              "      <td>3203044.0</td>\n",
              "      <td>2003.0</td>\n",
              "      <td>18.0</td>\n",
              "    </tr>\n",
              "    <tr>\n",
              "      <th>2567</th>\n",
              "      <td>Woody Allen</td>\n",
              "      <td>14792779.0</td>\n",
              "      <td>1987.0</td>\n",
              "      <td>18.0</td>\n",
              "    </tr>\n",
              "    <tr>\n",
              "      <th>2577</th>\n",
              "      <td>Woody Allen</td>\n",
              "      <td>4839383.0</td>\n",
              "      <td>2002.0</td>\n",
              "      <td>18.0</td>\n",
              "    </tr>\n",
              "    <tr>\n",
              "      <th>2695</th>\n",
              "      <td>Woody Allen</td>\n",
              "      <td>10763469.0</td>\n",
              "      <td>1989.0</td>\n",
              "      <td>18.0</td>\n",
              "    </tr>\n",
              "    <tr>\n",
              "      <th>2717</th>\n",
              "      <td>Woody Allen</td>\n",
              "      <td>5306447.0</td>\n",
              "      <td>2009.0</td>\n",
              "      <td>18.0</td>\n",
              "    </tr>\n",
              "    <tr>\n",
              "      <th>2725</th>\n",
              "      <td>Woody Allen</td>\n",
              "      <td>3247816.0</td>\n",
              "      <td>2010.0</td>\n",
              "      <td>18.0</td>\n",
              "    </tr>\n",
              "    <tr>\n",
              "      <th>2981</th>\n",
              "      <td>Woody Allen</td>\n",
              "      <td>5032496.0</td>\n",
              "      <td>1998.0</td>\n",
              "      <td>18.0</td>\n",
              "    </tr>\n",
              "    <tr>\n",
              "      <th>3889</th>\n",
              "      <td>Woody Allen</td>\n",
              "      <td>39200000.0</td>\n",
              "      <td>1977.0</td>\n",
              "      <td>18.0</td>\n",
              "    </tr>\n",
              "    <tr>\n",
              "      <th>4250</th>\n",
              "      <td>Woody Allen</td>\n",
              "      <td>NaN</td>\n",
              "      <td>1973.0</td>\n",
              "      <td>18.0</td>\n",
              "    </tr>\n",
              "    <tr>\n",
              "      <th>4252</th>\n",
              "      <td>Woody Allen</td>\n",
              "      <td>NaN</td>\n",
              "      <td>1972.0</td>\n",
              "      <td>18.0</td>\n",
              "    </tr>\n",
              "    <tr>\n",
              "      <th>4324</th>\n",
              "      <td>Woody Allen</td>\n",
              "      <td>NaN</td>\n",
              "      <td>1971.0</td>\n",
              "      <td>18.0</td>\n",
              "    </tr>\n",
              "  </tbody>\n",
              "</table>\n",
              "</div>"
            ],
            "text/plain": [
              "     director_name       gross  title_year  filmes_do_diretor\n",
              "1861   Woody Allen   7496522.0      2001.0               18.0\n",
              "2131   Woody Allen  16684352.0      2012.0               18.0\n",
              "2275   Woody Allen  13383737.0      1994.0               18.0\n",
              "2287   Woody Allen  10569071.0      1997.0               18.0\n",
              "2291   Woody Allen   9714482.0      1996.0               18.0\n",
              "2415   Woody Allen  33404871.0      2013.0               18.0\n",
              "2430   Woody Allen  17071230.0      2000.0               18.0\n",
              "2457   Woody Allen   3203044.0      2003.0               18.0\n",
              "2567   Woody Allen  14792779.0      1987.0               18.0\n",
              "2577   Woody Allen   4839383.0      2002.0               18.0\n",
              "2695   Woody Allen  10763469.0      1989.0               18.0\n",
              "2717   Woody Allen   5306447.0      2009.0               18.0\n",
              "2725   Woody Allen   3247816.0      2010.0               18.0\n",
              "2981   Woody Allen   5032496.0      1998.0               18.0\n",
              "3889   Woody Allen  39200000.0      1977.0               18.0\n",
              "4250   Woody Allen         NaN      1973.0               18.0\n",
              "4252   Woody Allen         NaN      1972.0               18.0\n",
              "4324   Woody Allen         NaN      1971.0               18.0"
            ]
          },
          "metadata": {
            "tags": []
          },
          "execution_count": 69
        }
      ]
    },
    {
      "cell_type": "markdown",
      "metadata": {
        "id": "UEoRM5QBCBWt",
        "colab_type": "text"
      },
      "source": [
        "**Não há duvidas A TESE está CORRETISSIMA!**"
      ]
    },
    {
      "cell_type": "markdown",
      "metadata": {
        "id": "Ikt_dM1Hc7B-",
        "colab_type": "text"
      },
      "source": [
        "## Desafio 6\n",
        "\n",
        "Analise mais detalhadamente o gráfico pairplot, gaste um tempo pensando e tentando enteder os gráficos."
      ]
    },
    {
      "cell_type": "markdown",
      "metadata": {
        "id": "Xn8MIA6dXSuS",
        "colab_type": "text"
      },
      "source": [
        "  Nota-se ao separar um data frame apenas dos USA que maior parte dos filmes se constituem nos Estados Unidos, apenas 15% de outros países."
      ]
    },
    {
      "cell_type": "code",
      "metadata": {
        "id": "3M1C6ERrWvfQ",
        "colab_type": "code",
        "outputId": "12d296b2-2351-4f00-e43c-e6bd4b934db2",
        "colab": {
          "base_uri": "https://localhost:8080/",
          "height": 0
        }
      },
      "source": [
        " round((len(imdbUSA.movie_title) / len(imdb.movie_title)), 2)"
      ],
      "execution_count": 41,
      "outputs": [
        {
          "output_type": "execute_result",
          "data": {
            "text/plain": [
              "0.75"
            ]
          },
          "metadata": {
            "tags": []
          },
          "execution_count": 41
        }
      ]
    },
    {
      "cell_type": "markdown",
      "metadata": {
        "id": "07cXxxmCZWzS",
        "colab_type": "text"
      },
      "source": [
        "  Além disso ao excecutar um pair-plot com o ano do filme, seu orçamento e seu arrecadamento é possivel ver um aumento extremamente significativo do dinheiro circulando no mercado de filmes com o tempo:"
      ]
    },
    {
      "cell_type": "code",
      "metadata": {
        "id": "xF9zbLmYaDib",
        "colab_type": "code",
        "outputId": "ff866705-66b6-4cf3-d400-597d42cf1aa2",
        "colab": {
          "base_uri": "https://localhost:8080/",
          "height": 0
        }
      },
      "source": [
        "plt.figure(figsize=[10,10], dpi=100)\n",
        "sns.pairplot(data = imdbUSA[[\"gross\", \"budget\", \"title_year\"]], x_vars=[\"title_year\"], y_vars=[\"gross\", \"budget\"])"
      ],
      "execution_count": 42,
      "outputs": [
        {
          "output_type": "execute_result",
          "data": {
            "text/plain": [
              "<seaborn.axisgrid.PairGrid at 0x7f42a8b93198>"
            ]
          },
          "metadata": {
            "tags": []
          },
          "execution_count": 42
        },
        {
          "output_type": "display_data",
          "data": {
            "text/plain": [
              "<Figure size 1000x1000 with 0 Axes>"
            ]
          },
          "metadata": {
            "tags": []
          }
        },
        {
          "output_type": "display_data",
          "data": {
            "image/png": "[encoded data removed]",
            "text/plain": [
              "<Figure size 180x360 with 2 Axes>"
            ]
          },
          "metadata": {
            "tags": [],
            "needs_background": "light"
          }
        }
      ]
    },
    {
      "cell_type": "markdown",
      "metadata": {
        "id": "ffLLZqj0DE4a",
        "colab_type": "text"
      },
      "source": [
        "## Desafio 7 e 8\n",
        "Tentar encontrar uma reta, pode ser com uma régua no monitor (não faça isso), com o excel/google sheets, com o python, no gráfico que parece se aproximar com uma reta (por exemplo budget/lucro, gross/lucro)\n",
        "\n",
        "Calcular a correlação apenas dos filmes pós anos 2000 (Jogar fora filmes antes de 2000) e interpretar essa correlação."
      ]
    },
    {
      "cell_type": "code",
      "metadata": {
        "id": "Qga-VLi7DXgt",
        "colab_type": "code",
        "outputId": "e7f5ace5-b6ba-44ea-9572-3cf96c6cfee3",
        "colab": {
          "base_uri": "https://localhost:8080/",
          "height": 777
        }
      },
      "source": [
        "filmesPos2000 = imdbUSA.query(\"title_year >= 2000\")\n",
        "\n",
        "sns.pairplot(data = filmesPos2000[[\"gross\", \"budget\",\"lucro\", \"title_year\"]])"
      ],
      "execution_count": 43,
      "outputs": [
        {
          "output_type": "execute_result",
          "data": {
            "text/plain": [
              "<seaborn.axisgrid.PairGrid at 0x7f42ab9f74a8>"
            ]
          },
          "metadata": {
            "tags": []
          },
          "execution_count": 43
        },
        {
          "output_type": "display_data",
          "data": {
            "image/png": "[encoded data removed]",
            "text/plain": [
              "<Figure size 720x720 with 20 Axes>"
            ]
          },
          "metadata": {
            "tags": [],
            "needs_background": "light"
          }
        }
      ]
    },
    {
      "cell_type": "markdown",
      "metadata": {
        "id": "Fg04yRNHELiz",
        "colab_type": "text"
      },
      "source": [
        "O unico gráfico do qual aparenta apresentar uma correlaçao visível é os de gross x lucro, indicando que filmes com maior arecadaçao tendem á ter maior lucro."
      ]
    },
    {
      "cell_type": "code",
      "metadata": {
        "id": "MUh66Pk-FugE",
        "colab_type": "code",
        "colab": {}
      },
      "source": [
        ""
      ],
      "execution_count": 0,
      "outputs": []
    },
    {
      "cell_type": "markdown",
      "metadata": {
        "id": "pcNx53alRj1z",
        "colab_type": "text"
      },
      "source": [
        "## Desafio 9\n",
        "Analisar e interpretar a correlação de outras variáveis além das feitas em sala (notas é uma boa). Número de avaliações por ano pode ser também uma feature."
      ]
    },
    {
      "cell_type": "code",
      "metadata": {
        "id": "m_4vf4R7XClK",
        "colab_type": "code",
        "colab": {
          "base_uri": "https://localhost:8080/",
          "height": 766
        },
        "outputId": "2aebcc8a-edc6-4961-ee36-f470dc81ba44"
      },
      "source": [
        "sns.pairplot(data=arrecadacaoPorDiretor[[\"duration\", \"director_facebook_likes\", \"filmes_do_diretor\", \"budget\"]])"
      ],
      "execution_count": 72,
      "outputs": [
        {
          "output_type": "execute_result",
          "data": {
            "text/plain": [
              "<seaborn.axisgrid.PairGrid at 0x7f42a1fe5978>"
            ]
          },
          "metadata": {
            "tags": []
          },
          "execution_count": 72
        },
        {
          "output_type": "display_data",
          "data": {
            "image/png": "[encoded data removed]",
            "text/plain": [
              "<Figure size 720x720 with 20 Axes>"
            ]
          },
          "metadata": {
            "tags": [],
            "needs_background": "light"
          }
        }
      ]
    },
    {
      "cell_type": "code",
      "metadata": {
        "id": "H_mSpnmUZ5Vl",
        "colab_type": "code",
        "colab": {
          "base_uri": "https://localhost:8080/",
          "height": 173
        },
        "outputId": "0ce9d2b1-aed3-48af-81ff-bfa1b59079ee"
      },
      "source": [
        "arrecadacaoPorDiretor[[\"duration\", \"director_facebook_likes\", \"filmes_do_diretor\", \"budget\"]].corr()"
      ],
      "execution_count": 75,
      "outputs": [
        {
          "output_type": "execute_result",
          "data": {
            "text/html": [
              "<div>\n",
              "<style scoped>\n",
              "    .dataframe tbody tr th:only-of-type {\n",
              "        vertical-align: middle;\n",
              "    }\n",
              "\n",
              "    .dataframe tbody tr th {\n",
              "        vertical-align: top;\n",
              "    }\n",
              "\n",
              "    .dataframe thead th {\n",
              "        text-align: right;\n",
              "    }\n",
              "</style>\n",
              "<table border=\"1\" class=\"dataframe\">\n",
              "  <thead>\n",
              "    <tr style=\"text-align: right;\">\n",
              "      <th></th>\n",
              "      <th>duration</th>\n",
              "      <th>director_facebook_likes</th>\n",
              "      <th>filmes_do_diretor</th>\n",
              "      <th>budget</th>\n",
              "    </tr>\n",
              "  </thead>\n",
              "  <tbody>\n",
              "    <tr>\n",
              "      <th>duration</th>\n",
              "      <td>1.000000</td>\n",
              "      <td>0.205327</td>\n",
              "      <td>0.306190</td>\n",
              "      <td>0.315569</td>\n",
              "    </tr>\n",
              "    <tr>\n",
              "      <th>director_facebook_likes</th>\n",
              "      <td>0.205327</td>\n",
              "      <td>1.000000</td>\n",
              "      <td>0.533633</td>\n",
              "      <td>0.098204</td>\n",
              "    </tr>\n",
              "    <tr>\n",
              "      <th>filmes_do_diretor</th>\n",
              "      <td>0.306190</td>\n",
              "      <td>0.533633</td>\n",
              "      <td>1.000000</td>\n",
              "      <td>0.235551</td>\n",
              "    </tr>\n",
              "    <tr>\n",
              "      <th>budget</th>\n",
              "      <td>0.315569</td>\n",
              "      <td>0.098204</td>\n",
              "      <td>0.235551</td>\n",
              "      <td>1.000000</td>\n",
              "    </tr>\n",
              "  </tbody>\n",
              "</table>\n",
              "</div>"
            ],
            "text/plain": [
              "                         duration  ...    budget\n",
              "duration                 1.000000  ...  0.315569\n",
              "director_facebook_likes  0.205327  ...  0.098204\n",
              "filmes_do_diretor        0.306190  ...  0.235551\n",
              "budget                   0.315569  ...  1.000000\n",
              "\n",
              "[4 rows x 4 columns]"
            ]
          },
          "metadata": {
            "tags": []
          },
          "execution_count": 75
        }
      ]
    },
    {
      "cell_type": "markdown",
      "metadata": {
        "id": "BCB5gKSggIM1",
        "colab_type": "text"
      },
      "source": [
        "Supus que diretores com mais filmes teriam mais likes no facebook,e talves recebecem budgets maiores para seus filmes, porem nao é oq se apresenta no gráfico, nao sei se por ser apenas um sample e nao a base completa ou se por realmente nao ter nenhuma relaçao."
      ]
    },
    {
      "cell_type": "markdown",
      "metadata": {
        "id": "9IxPF-wkgsDi",
        "colab_type": "text"
      },
      "source": [
        ""
      ]
    }
  ]
}