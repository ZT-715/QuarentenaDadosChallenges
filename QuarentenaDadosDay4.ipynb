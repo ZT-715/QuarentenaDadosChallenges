{
  "nbformat": 4,
  "nbformat_minor": 0,
  "metadata": {
    "colab": {
      "name": "QuarentenaDadosDay4.ipynb",
      "provenance": [],
      "authorship_tag": "ABX9TyMSqeNfykVNevwPrf6NTZFQ",
      "include_colab_link": true
    },
    "kernelspec": {
      "name": "python3",
      "display_name": "Python 3"
    }
  },
  "cells": [
    {
      "cell_type": "markdown",
      "metadata": {
        "id": "view-in-github",
        "colab_type": "text"
      },
      "source": [
        "<a href=\"https://colab.research.google.com/github/ZT-715/QuarentenaDadosChallenges/blob/master/QuarentenaDadosDay4.ipynb\" target=\"_parent\"><img src=\"https://colab.research.google.com/assets/colab-badge.svg\" alt=\"Open In Colab\"/></a>"
      ]
    },
    {
      "cell_type": "markdown",
      "metadata": {
        "id": "RXqbpNLPOP4A",
        "colab_type": "text"
      },
      "source": [
        "# Aula 4\n"
      ]
    },
    {
      "cell_type": "code",
      "metadata": {
        "id": "Hhgxh4iFOCWo",
        "colab_type": "code",
        "colab": {}
      },
      "source": [
        ""
      ],
      "execution_count": 0,
      "outputs": []
    }
  ]
}